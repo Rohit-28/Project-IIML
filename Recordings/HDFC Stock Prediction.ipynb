{
 "cells": [
  {
   "cell_type": "code",
   "execution_count": 1,
   "metadata": {},
   "outputs": [],
   "source": [
    "import pandas as pd\n",
    "import numpy as np\n",
    "import matplotlib.pyplot as plt\n",
    "import seaborn as sns\n",
    "%matplotlib inline"
   ]
  },
  {
   "cell_type": "code",
   "execution_count": 46,
   "metadata": {},
   "outputs": [],
   "source": [
    "url='https://raw.githubusercontent.com/Rohit-28/Project-IIML/master/NSE-HDFCBANK.csv'"
   ]
  },
  {
   "cell_type": "code",
   "execution_count": 47,
   "metadata": {},
   "outputs": [],
   "source": [
    "data=pd.read_csv(url,error_bad_lines=False)"
   ]
  },
  {
   "cell_type": "code",
   "execution_count": 25,
   "metadata": {},
   "outputs": [
    {
     "data": {
      "text/plain": [
       "(5159, 8)"
      ]
     },
     "execution_count": 25,
     "metadata": {},
     "output_type": "execute_result"
    }
   ],
   "source": [
    "data.shape"
   ]
  },
  {
   "cell_type": "code",
   "execution_count": 48,
   "metadata": {},
   "outputs": [
    {
     "data": {
      "text/html": [
       "<div>\n",
       "<style scoped>\n",
       "    .dataframe tbody tr th:only-of-type {\n",
       "        vertical-align: middle;\n",
       "    }\n",
       "\n",
       "    .dataframe tbody tr th {\n",
       "        vertical-align: top;\n",
       "    }\n",
       "\n",
       "    .dataframe thead th {\n",
       "        text-align: right;\n",
       "    }\n",
       "</style>\n",
       "<table border=\"1\" class=\"dataframe\">\n",
       "  <thead>\n",
       "    <tr style=\"text-align: right;\">\n",
       "      <th></th>\n",
       "      <th>Date</th>\n",
       "      <th>Open</th>\n",
       "      <th>High</th>\n",
       "      <th>Low</th>\n",
       "      <th>Last</th>\n",
       "      <th>Close</th>\n",
       "      <th>Total Trade Quantity</th>\n",
       "      <th>Turnover (Lacs)</th>\n",
       "    </tr>\n",
       "  </thead>\n",
       "  <tbody>\n",
       "    <tr>\n",
       "      <th>0</th>\n",
       "      <td>2018-11-29</td>\n",
       "      <td>2101.00</td>\n",
       "      <td>2137.4</td>\n",
       "      <td>2094.00</td>\n",
       "      <td>2132.25</td>\n",
       "      <td>2131.05</td>\n",
       "      <td>7977159.0</td>\n",
       "      <td>168778.30</td>\n",
       "    </tr>\n",
       "    <tr>\n",
       "      <th>1</th>\n",
       "      <td>2018-11-28</td>\n",
       "      <td>2065.00</td>\n",
       "      <td>2098.6</td>\n",
       "      <td>2060.10</td>\n",
       "      <td>2091.00</td>\n",
       "      <td>2089.25</td>\n",
       "      <td>3255277.0</td>\n",
       "      <td>67937.87</td>\n",
       "    </tr>\n",
       "    <tr>\n",
       "      <th>2</th>\n",
       "      <td>2018-11-27</td>\n",
       "      <td>2041.05</td>\n",
       "      <td>2067.9</td>\n",
       "      <td>2040.75</td>\n",
       "      <td>2064.00</td>\n",
       "      <td>2064.00</td>\n",
       "      <td>3223860.0</td>\n",
       "      <td>66302.38</td>\n",
       "    </tr>\n",
       "    <tr>\n",
       "      <th>3</th>\n",
       "      <td>2018-11-26</td>\n",
       "      <td>2013.90</td>\n",
       "      <td>2052.0</td>\n",
       "      <td>2012.05</td>\n",
       "      <td>2050.00</td>\n",
       "      <td>2049.80</td>\n",
       "      <td>4546109.0</td>\n",
       "      <td>92740.60</td>\n",
       "    </tr>\n",
       "    <tr>\n",
       "      <th>4</th>\n",
       "      <td>2018-11-22</td>\n",
       "      <td>2013.25</td>\n",
       "      <td>2035.0</td>\n",
       "      <td>2000.15</td>\n",
       "      <td>2006.25</td>\n",
       "      <td>2005.50</td>\n",
       "      <td>3243638.0</td>\n",
       "      <td>65621.06</td>\n",
       "    </tr>\n",
       "  </tbody>\n",
       "</table>\n",
       "</div>"
      ],
      "text/plain": [
       "         Date     Open    High      Low     Last    Close  \\\n",
       "0  2018-11-29  2101.00  2137.4  2094.00  2132.25  2131.05   \n",
       "1  2018-11-28  2065.00  2098.6  2060.10  2091.00  2089.25   \n",
       "2  2018-11-27  2041.05  2067.9  2040.75  2064.00  2064.00   \n",
       "3  2018-11-26  2013.90  2052.0  2012.05  2050.00  2049.80   \n",
       "4  2018-11-22  2013.25  2035.0  2000.15  2006.25  2005.50   \n",
       "\n",
       "   Total Trade Quantity  Turnover (Lacs)  \n",
       "0             7977159.0        168778.30  \n",
       "1             3255277.0         67937.87  \n",
       "2             3223860.0         66302.38  \n",
       "3             4546109.0         92740.60  \n",
       "4             3243638.0         65621.06  "
      ]
     },
     "execution_count": 48,
     "metadata": {},
     "output_type": "execute_result"
    }
   ],
   "source": [
    "data.head()"
   ]
  },
  {
   "cell_type": "code",
   "execution_count": 27,
   "metadata": {},
   "outputs": [],
   "source": [
    "from IPython.display import display\n",
    "pd.options.display.max_columns=None\n",
    "pd.options.display.max_rows=None"
   ]
  },
  {
   "cell_type": "code",
   "execution_count": 31,
   "metadata": {},
   "outputs": [
    {
     "data": {
      "text/plain": [
       "Index(['Date', 'Open', 'High', 'Low', 'Last', 'Close', 'Total Trade Quantity',\n",
       "       'Turnover (Lacs)'],\n",
       "      dtype='object')"
      ]
     },
     "execution_count": 31,
     "metadata": {},
     "output_type": "execute_result"
    }
   ],
   "source": [
    "data.columns"
   ]
  },
  {
   "cell_type": "code",
   "execution_count": 49,
   "metadata": {},
   "outputs": [
    {
     "data": {
      "image/png": "[encoded data removed]",
      "text/plain": [
       "<Figure size 1080x576 with 2 Axes>"
      ]
     },
     "metadata": {},
     "output_type": "display_data"
    }
   ],
   "source": [
    "corr=data.corr()\n",
    "fig,ax=plt.subplots(figsize=(15,8))\n",
    "colormap=sns.diverging_palette(220,10,as_cmap=True)\n",
    "sns.heatmap(corr,cmap=colormap,annot=True,fmt='.2f')\n",
    "plt.xticks(range(len(corr.columns)),corr.columns)\n",
    "plt.yticks(range(len(corr.columns)),corr.columns)\n",
    "plt.show()"
   ]
  },
  {
   "cell_type": "code",
   "execution_count": 50,
   "metadata": {},
   "outputs": [],
   "source": [
    "data.drop(['Date','Total Trade Quantity','Turnover (Lacs)'],axis=1,inplace=True)"
   ]
  },
  {
   "cell_type": "code",
   "execution_count": 51,
   "metadata": {},
   "outputs": [
    {
     "data": {
      "text/plain": [
       "Index(['Open', 'High', 'Low', 'Last', 'Close'], dtype='object')"
      ]
     },
     "execution_count": 51,
     "metadata": {},
     "output_type": "execute_result"
    }
   ],
   "source": [
    "data.columns"
   ]
  },
  {
   "cell_type": "code",
   "execution_count": 52,
   "metadata": {},
   "outputs": [
    {
     "data": {
      "image/png": "[encoded data removed]",
      "text/plain": [
       "<Figure size 1080x576 with 2 Axes>"
      ]
     },
     "metadata": {},
     "output_type": "display_data"
    }
   ],
   "source": [
    "corr=data.corr()\n",
    "fig,ax=plt.subplots(figsize=(15,8))\n",
    "colormap=sns.diverging_palette(220,10,as_cmap=True)\n",
    "sns.heatmap(corr,cmap=colormap,annot=True,fmt='.2f')\n",
    "plt.xticks(range(len(corr.columns)),corr.columns)\n",
    "plt.yticks(range(len(corr.columns)),corr.columns)\n",
    "plt.show()"
   ]
  },
  {
   "cell_type": "code",
   "execution_count": 53,
   "metadata": {},
   "outputs": [
    {
     "data": {
      "text/html": [
       "<div>\n",
       "<style scoped>\n",
       "    .dataframe tbody tr th:only-of-type {\n",
       "        vertical-align: middle;\n",
       "    }\n",
       "\n",
       "    .dataframe tbody tr th {\n",
       "        vertical-align: top;\n",
       "    }\n",
       "\n",
       "    .dataframe thead th {\n",
       "        text-align: right;\n",
       "    }\n",
       "</style>\n",
       "<table border=\"1\" class=\"dataframe\">\n",
       "  <thead>\n",
       "    <tr style=\"text-align: right;\">\n",
       "      <th></th>\n",
       "      <th>Open</th>\n",
       "      <th>High</th>\n",
       "      <th>Low</th>\n",
       "      <th>Last</th>\n",
       "      <th>Close</th>\n",
       "    </tr>\n",
       "  </thead>\n",
       "  <tbody>\n",
       "    <tr>\n",
       "      <th>Open</th>\n",
       "      <td>1.000000</td>\n",
       "      <td>0.999687</td>\n",
       "      <td>0.999712</td>\n",
       "      <td>0.999550</td>\n",
       "      <td>0.999567</td>\n",
       "    </tr>\n",
       "    <tr>\n",
       "      <th>High</th>\n",
       "      <td>0.999687</td>\n",
       "      <td>1.000000</td>\n",
       "      <td>0.999484</td>\n",
       "      <td>0.999761</td>\n",
       "      <td>0.999770</td>\n",
       "    </tr>\n",
       "    <tr>\n",
       "      <th>Low</th>\n",
       "      <td>0.999712</td>\n",
       "      <td>0.999484</td>\n",
       "      <td>1.000000</td>\n",
       "      <td>0.999713</td>\n",
       "      <td>0.999735</td>\n",
       "    </tr>\n",
       "    <tr>\n",
       "      <th>Last</th>\n",
       "      <td>0.999550</td>\n",
       "      <td>0.999761</td>\n",
       "      <td>0.999713</td>\n",
       "      <td>1.000000</td>\n",
       "      <td>0.999984</td>\n",
       "    </tr>\n",
       "    <tr>\n",
       "      <th>Close</th>\n",
       "      <td>0.999567</td>\n",
       "      <td>0.999770</td>\n",
       "      <td>0.999735</td>\n",
       "      <td>0.999984</td>\n",
       "      <td>1.000000</td>\n",
       "    </tr>\n",
       "  </tbody>\n",
       "</table>\n",
       "</div>"
      ],
      "text/plain": [
       "           Open      High       Low      Last     Close\n",
       "Open   1.000000  0.999687  0.999712  0.999550  0.999567\n",
       "High   0.999687  1.000000  0.999484  0.999761  0.999770\n",
       "Low    0.999712  0.999484  1.000000  0.999713  0.999735\n",
       "Last   0.999550  0.999761  0.999713  1.000000  0.999984\n",
       "Close  0.999567  0.999770  0.999735  0.999984  1.000000"
      ]
     },
     "execution_count": 53,
     "metadata": {},
     "output_type": "execute_result"
    }
   ],
   "source": [
    "data.corr()"
   ]
  },
  {
   "cell_type": "code",
   "execution_count": 54,
   "metadata": {},
   "outputs": [
    {
     "data": {
      "text/html": [
       "<div>\n",
       "<style scoped>\n",
       "    .dataframe tbody tr th:only-of-type {\n",
       "        vertical-align: middle;\n",
       "    }\n",
       "\n",
       "    .dataframe tbody tr th {\n",
       "        vertical-align: top;\n",
       "    }\n",
       "\n",
       "    .dataframe thead th {\n",
       "        text-align: right;\n",
       "    }\n",
       "</style>\n",
       "<table border=\"1\" class=\"dataframe\">\n",
       "  <thead>\n",
       "    <tr style=\"text-align: right;\">\n",
       "      <th></th>\n",
       "      <th>Open</th>\n",
       "      <th>High</th>\n",
       "      <th>Low</th>\n",
       "      <th>Last</th>\n",
       "      <th>Close</th>\n",
       "    </tr>\n",
       "  </thead>\n",
       "  <tbody>\n",
       "    <tr>\n",
       "      <th>count</th>\n",
       "      <td>5159.000000</td>\n",
       "      <td>5159.000000</td>\n",
       "      <td>5159.000000</td>\n",
       "      <td>5158.000000</td>\n",
       "      <td>5158.000000</td>\n",
       "    </tr>\n",
       "    <tr>\n",
       "      <th>mean</th>\n",
       "      <td>861.843536</td>\n",
       "      <td>873.114228</td>\n",
       "      <td>849.790173</td>\n",
       "      <td>862.034102</td>\n",
       "      <td>862.052007</td>\n",
       "    </tr>\n",
       "    <tr>\n",
       "      <th>std</th>\n",
       "      <td>635.931147</td>\n",
       "      <td>642.878005</td>\n",
       "      <td>629.175668</td>\n",
       "      <td>636.345331</td>\n",
       "      <td>636.328271</td>\n",
       "    </tr>\n",
       "    <tr>\n",
       "      <th>min</th>\n",
       "      <td>49.150000</td>\n",
       "      <td>50.000000</td>\n",
       "      <td>48.000000</td>\n",
       "      <td>48.850000</td>\n",
       "      <td>49.000000</td>\n",
       "    </tr>\n",
       "    <tr>\n",
       "      <th>25%</th>\n",
       "      <td>260.400000</td>\n",
       "      <td>267.300000</td>\n",
       "      <td>255.000000</td>\n",
       "      <td>260.637500</td>\n",
       "      <td>261.150000</td>\n",
       "    </tr>\n",
       "    <tr>\n",
       "      <th>50%</th>\n",
       "      <td>698.000000</td>\n",
       "      <td>705.000000</td>\n",
       "      <td>687.000000</td>\n",
       "      <td>697.100000</td>\n",
       "      <td>696.725000</td>\n",
       "    </tr>\n",
       "    <tr>\n",
       "      <th>75%</th>\n",
       "      <td>1232.000000</td>\n",
       "      <td>1246.175000</td>\n",
       "      <td>1209.600000</td>\n",
       "      <td>1230.237500</td>\n",
       "      <td>1230.275000</td>\n",
       "    </tr>\n",
       "    <tr>\n",
       "      <th>max</th>\n",
       "      <td>2566.000000</td>\n",
       "      <td>2583.300000</td>\n",
       "      <td>2553.700000</td>\n",
       "      <td>2563.000000</td>\n",
       "      <td>2565.800000</td>\n",
       "    </tr>\n",
       "  </tbody>\n",
       "</table>\n",
       "</div>"
      ],
      "text/plain": [
       "              Open         High          Low         Last        Close\n",
       "count  5159.000000  5159.000000  5159.000000  5158.000000  5158.000000\n",
       "mean    861.843536   873.114228   849.790173   862.034102   862.052007\n",
       "std     635.931147   642.878005   629.175668   636.345331   636.328271\n",
       "min      49.150000    50.000000    48.000000    48.850000    49.000000\n",
       "25%     260.400000   267.300000   255.000000   260.637500   261.150000\n",
       "50%     698.000000   705.000000   687.000000   697.100000   696.725000\n",
       "75%    1232.000000  1246.175000  1209.600000  1230.237500  1230.275000\n",
       "max    2566.000000  2583.300000  2553.700000  2563.000000  2565.800000"
      ]
     },
     "execution_count": 54,
     "metadata": {},
     "output_type": "execute_result"
    }
   ],
   "source": [
    "data.describe()"
   ]
  },
  {
   "cell_type": "code",
   "execution_count": 60,
   "metadata": {},
   "outputs": [
    {
     "data": {
      "text/plain": [
       "True"
      ]
     },
     "execution_count": 60,
     "metadata": {},
     "output_type": "execute_result"
    }
   ],
   "source": [
    "data.isnull().values.any()"
   ]
  },
  {
   "cell_type": "code",
   "execution_count": 55,
   "metadata": {},
   "outputs": [
    {
     "name": "stdout",
     "output_type": "stream",
     "text": [
      "<class 'pandas.core.frame.DataFrame'>\n",
      "RangeIndex: 5159 entries, 0 to 5158\n",
      "Data columns (total 5 columns):\n",
      "Open     5159 non-null float64\n",
      "High     5159 non-null float64\n",
      "Low      5159 non-null float64\n",
      "Last     5158 non-null float64\n",
      "Close    5158 non-null float64\n",
      "dtypes: float64(5)\n",
      "memory usage: 201.6 KB\n"
     ]
    }
   ],
   "source": [
    "data.info()"
   ]
  },
  {
   "cell_type": "code",
   "execution_count": 66,
   "metadata": {},
   "outputs": [],
   "source": [
    "data.fillna({'Last':data['Last'].mean(),'Close':data['Close'].mean()},inplace=True)"
   ]
  },
  {
   "cell_type": "code",
   "execution_count": 68,
   "metadata": {},
   "outputs": [],
   "source": [
    "from sklearn.model_selection import train_test_split"
   ]
  },
  {
   "cell_type": "code",
   "execution_count": 67,
   "metadata": {},
   "outputs": [
    {
     "name": "stdout",
     "output_type": "stream",
     "text": [
      "<class 'pandas.core.frame.DataFrame'>\n",
      "RangeIndex: 5159 entries, 0 to 5158\n",
      "Data columns (total 5 columns):\n",
      "Open     5159 non-null float64\n",
      "High     5159 non-null float64\n",
      "Low      5159 non-null float64\n",
      "Last     5159 non-null float64\n",
      "Close    5159 non-null float64\n",
      "dtypes: float64(5)\n",
      "memory usage: 201.6 KB\n"
     ]
    }
   ],
   "source": [
    "data.info()"
   ]
  },
  {
   "cell_type": "code",
   "execution_count": 69,
   "metadata": {},
   "outputs": [],
   "source": [
    "X_train,X_test,Y_train,Y_test=train_test_split(data.drop('Close',axis=1),data['Close'],test_size=0.3,random_state=112)"
   ]
  },
  {
   "cell_type": "code",
   "execution_count": 70,
   "metadata": {},
   "outputs": [],
   "source": [
    "from sklearn.linear_model import LinearRegression"
   ]
  },
  {
   "cell_type": "code",
   "execution_count": 71,
   "metadata": {},
   "outputs": [],
   "source": [
    "model=LinearRegression(normalize=True)"
   ]
  },
  {
   "cell_type": "code",
   "execution_count": 72,
   "metadata": {},
   "outputs": [
    {
     "data": {
      "text/plain": [
       "LinearRegression(copy_X=True, fit_intercept=True, n_jobs=1, normalize=True)"
      ]
     },
     "execution_count": 72,
     "metadata": {},
     "output_type": "execute_result"
    }
   ],
   "source": [
    "model.fit(X_train,Y_train)"
   ]
  },
  {
   "cell_type": "code",
   "execution_count": 73,
   "metadata": {},
   "outputs": [],
   "source": [
    "pred=model.predict(X_test)"
   ]
  },
  {
   "cell_type": "code",
   "execution_count": 78,
   "metadata": {},
   "outputs": [
    {
     "data": {
      "text/html": [
       "<div>\n",
       "<style scoped>\n",
       "    .dataframe tbody tr th:only-of-type {\n",
       "        vertical-align: middle;\n",
       "    }\n",
       "\n",
       "    .dataframe tbody tr th {\n",
       "        vertical-align: top;\n",
       "    }\n",
       "\n",
       "    .dataframe thead th {\n",
       "        text-align: right;\n",
       "    }\n",
       "</style>\n",
       "<table border=\"1\" class=\"dataframe\">\n",
       "  <thead>\n",
       "    <tr style=\"text-align: right;\">\n",
       "      <th></th>\n",
       "      <th>Actual values</th>\n",
       "      <th>Prediction</th>\n",
       "    </tr>\n",
       "  </thead>\n",
       "  <tbody>\n",
       "    <tr>\n",
       "      <th>2676</th>\n",
       "      <td>1547.40</td>\n",
       "      <td>1551.579896</td>\n",
       "    </tr>\n",
       "    <tr>\n",
       "      <th>4390</th>\n",
       "      <td>225.40</td>\n",
       "      <td>225.840108</td>\n",
       "    </tr>\n",
       "    <tr>\n",
       "      <th>3282</th>\n",
       "      <td>631.85</td>\n",
       "      <td>631.551798</td>\n",
       "    </tr>\n",
       "    <tr>\n",
       "      <th>1629</th>\n",
       "      <td>542.50</td>\n",
       "      <td>542.806338</td>\n",
       "    </tr>\n",
       "    <tr>\n",
       "      <th>3687</th>\n",
       "      <td>365.60</td>\n",
       "      <td>365.343451</td>\n",
       "    </tr>\n",
       "    <tr>\n",
       "      <th>785</th>\n",
       "      <td>1049.20</td>\n",
       "      <td>1050.466097</td>\n",
       "    </tr>\n",
       "    <tr>\n",
       "      <th>1843</th>\n",
       "      <td>2325.55</td>\n",
       "      <td>2327.835668</td>\n",
       "    </tr>\n",
       "    <tr>\n",
       "      <th>1488</th>\n",
       "      <td>663.70</td>\n",
       "      <td>664.840108</td>\n",
       "    </tr>\n",
       "    <tr>\n",
       "      <th>1866</th>\n",
       "      <td>2273.80</td>\n",
       "      <td>2276.363189</td>\n",
       "    </tr>\n",
       "    <tr>\n",
       "      <th>2662</th>\n",
       "      <td>1474.30</td>\n",
       "      <td>1463.502668</td>\n",
       "    </tr>\n",
       "  </tbody>\n",
       "</table>\n",
       "</div>"
      ],
      "text/plain": [
       "      Actual values   Prediction\n",
       "2676        1547.40  1551.579896\n",
       "4390         225.40   225.840108\n",
       "3282         631.85   631.551798\n",
       "1629         542.50   542.806338\n",
       "3687         365.60   365.343451\n",
       "785         1049.20  1050.466097\n",
       "1843        2325.55  2327.835668\n",
       "1488         663.70   664.840108\n",
       "1866        2273.80  2276.363189\n",
       "2662        1474.30  1463.502668"
      ]
     },
     "execution_count": 78,
     "metadata": {},
     "output_type": "execute_result"
    }
   ],
   "source": [
    "pd.DataFrame({'Actual values':Y_test,'Prediction':pred}).sample(10)"
   ]
  },
  {
   "cell_type": "code",
   "execution_count": 75,
   "metadata": {},
   "outputs": [
    {
     "data": {
      "text/plain": [
       "0.9999710759326035"
      ]
     },
     "execution_count": 75,
     "metadata": {},
     "output_type": "execute_result"
    }
   ],
   "source": [
    "model.score(X_test,Y_test)"
   ]
  },
  {
   "cell_type": "code",
   "execution_count": 76,
   "metadata": {},
   "outputs": [
    {
     "data": {
      "text/plain": [
       "array([-0.00881827,  0.00935532,  0.04167297,  0.95811306])"
      ]
     },
     "execution_count": 76,
     "metadata": {},
     "output_type": "execute_result"
    }
   ],
   "source": [
    "model.coef_"
   ]
  },
  {
   "cell_type": "code",
   "execution_count": 77,
   "metadata": {},
   "outputs": [
    {
     "data": {
      "text/plain": [
       "0.12341218331948767"
      ]
     },
     "execution_count": 77,
     "metadata": {},
     "output_type": "execute_result"
    }
   ],
   "source": [
    "model.intercept_"
   ]
  },
  {
   "cell_type": "code",
   "execution_count": 84,
   "metadata": {},
   "outputs": [],
   "source": [
    "from sklearn.metrics import mean_squared_error\n",
    "from math import sqrt"
   ]
  },
  {
   "cell_type": "code",
   "execution_count": 85,
   "metadata": {},
   "outputs": [],
   "source": [
    "rms=sqrt(mean_squared_error(Y_test,pred))"
   ]
  },
  {
   "cell_type": "code",
   "execution_count": 86,
   "metadata": {},
   "outputs": [
    {
     "data": {
      "text/plain": [
       "3.448648384380584"
      ]
     },
     "execution_count": 86,
     "metadata": {},
     "output_type": "execute_result"
    }
   ],
   "source": [
    "rms"
   ]
  },
  {
   "cell_type": "code",
   "execution_count": null,
   "metadata": {},
   "outputs": [],
   "source": []
  }
 ],
 "metadata": {
  "kernelspec": {
   "display_name": "Python 3",
   "language": "python",
   "name": "python3"
  },
  "language_info": {
   "codemirror_mode": {
    "name": "ipython",
    "version": 3
   },
   "file_extension": ".py",
   "mimetype": "text/x-python",
   "name": "python",
   "nbconvert_exporter": "python",
   "pygments_lexer": "ipython3",
   "version": "3.6.5"
  }
 },
 "nbformat": 4,
 "nbformat_minor": 2
}
