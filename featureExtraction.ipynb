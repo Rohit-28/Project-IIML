{
 "cells": [
  {
   "cell_type": "code",
   "execution_count": 12,
   "metadata": {},
   "outputs": [
    {
     "name": "stdout",
     "output_type": "stream",
     "text": [
      "Hello Data Science\n"
     ]
    }
   ],
   "source": [
    "print(\"Hello Data Science\")"
   ]
  },
  {
   "cell_type": "code",
   "execution_count": 6,
   "metadata": {},
   "outputs": [
    {
     "name": "stdout",
     "output_type": "stream",
     "text": [
      "Package                            Version  \n",
      "---------------------------------- ---------\n",
      "alabaster                          0.7.10   \n",
      "anaconda-client                    1.6.14   \n",
      "anaconda-navigator                 1.9.2    \n",
      "anaconda-project                   0.8.2    \n",
      "asn1crypto                         0.24.0   \n",
      "astroid                            1.6.3    \n",
      "astropy                            3.0.2    \n",
      "attrs                              18.1.0   \n",
      "Babel                              2.5.3    \n",
      "backcall                           0.1.0    \n",
      "backports.shutil-get-terminal-size 1.0.0    \n",
      "beautifulsoup4                     4.6.0    \n",
      "bitarray                           0.8.1    \n",
      "bkcharts                           0.2      \n",
      "blaze                              0.11.3   \n",
      "bleach                             2.1.3    \n",
      "bokeh                              0.12.16  \n",
      "boto                               2.48.0   \n",
      "Bottleneck                         1.2.1    \n",
      "certifi                            2018.4.16\n",
      "cffi                               1.11.5   \n",
      "chardet                            3.0.4    \n",
      "click                              6.7      \n",
      "cloudpickle                        0.5.3    \n",
      "clyent                             1.2.2    \n",
      "colorama                           0.3.9    \n",
      "comtypes                           1.1.4    \n",
      "conda                              4.5.11   \n",
      "conda-build                        3.10.5   \n",
      "conda-verify                       2.0.0    \n",
      "contextlib2                        0.5.5    \n",
      "cryptography                       2.2.2    \n",
      "cycler                             0.10.0   \n",
      "Cython                             0.28.2   \n",
      "cytoolz                            0.9.0.1  \n",
      "dask                               0.17.5   \n",
      "datashape                          0.5.4    \n",
      "decorator                          4.3.0    \n",
      "dill                               0.2.8.2  \n",
      "distributed                        1.21.8   \n",
      "docutils                           0.14     \n",
      "entrypoints                        0.2.3    \n",
      "et-xmlfile                         1.0.1    \n",
      "fast-histogram                     0.5      \n",
      "fastcache                          1.0.2    \n",
      "filelock                           3.0.4    \n",
      "Flask                              1.0.2    \n",
      "Flask-Cors                         3.0.4    \n",
      "gevent                             1.3.0    \n",
      "glob2                              0.6      \n",
      "glue-core                          0.13.4   \n",
      "glue-vispy-viewers                 0.10     \n",
      "greenlet                           0.4.13   \n",
      "h5py                               2.7.1    \n",
      "heapdict                           1.0.0    \n",
      "html5lib                           1.0.1    \n",
      "idna                               2.6      \n",
      "imageio                            2.3.0    \n",
      "imagesize                          1.0.0    \n",
      "ipykernel                          4.8.2    \n",
      "ipython                            6.4.0    \n",
      "ipython-genutils                   0.2.0    \n",
      "ipywidgets                         7.2.1    \n",
      "isort                              4.3.4    \n",
      "itsdangerous                       0.24     \n",
      "jdcal                              1.4      \n",
      "jedi                               0.12.0   \n",
      "Jinja2                             2.10     \n",
      "jsonschema                         2.6.0    \n",
      "jupyter                            1.0.0    \n",
      "jupyter-client                     5.2.3    \n",
      "jupyter-console                    5.2.0    \n",
      "jupyter-core                       4.4.0    \n",
      "jupyterlab                         0.32.1   \n",
      "jupyterlab-launcher                0.10.5   \n",
      "kiwisolver                         1.0.1    \n",
      "lazy-object-proxy                  1.3.1    \n",
      "llvmlite                           0.23.1   \n",
      "locket                             0.2.0    \n",
      "lxml                               4.2.1    \n",
      "MarkupSafe                         1.0      \n",
      "matplotlib                         2.2.2    \n",
      "mccabe                             0.6.1    \n",
      "menuinst                           1.4.14   \n",
      "mistune                            0.8.3    \n",
      "mkl-fft                            1.0.0    \n",
      "mkl-random                         1.0.1    \n",
      "more-itertools                     4.1.0    \n",
      "mpl-scatter-density                0.4      \n",
      "mpmath                             1.0.0    \n",
      "msgpack-python                     0.5.6    \n",
      "multipledispatch                   0.5.0    \n",
      "navigator-updater                  0.2.1    \n",
      "nbconvert                          5.3.1    \n",
      "nbformat                           4.4.0    \n",
      "networkx                           2.1      \n",
      "nltk                               3.3      \n",
      "nose                               1.3.7    \n",
      "notebook                           5.5.0    \n",
      "numba                              0.38.0   \n",
      "numexpr                            2.6.5    \n",
      "numpy                              1.14.3   \n",
      "numpydoc                           0.8.0    \n",
      "odo                                0.5.1    \n",
      "olefile                            0.45.1   \n",
      "openpyxl                           2.5.3    \n",
      "packaging                          17.1     \n",
      "pandas                             0.23.0   \n",
      "pandocfilters                      1.4.2    \n",
      "parso                              0.2.0    \n",
      "partd                              0.3.8    \n",
      "path.py                            11.0.1   \n",
      "pathlib2                           2.3.2    \n",
      "patsy                              0.5.0    \n",
      "pep8                               1.7.1    \n",
      "pickleshare                        0.7.4    \n",
      "Pillow                             5.1.0    \n",
      "pip                                10.0.1   \n",
      "pkginfo                            1.4.2    \n",
      "plotly                             3.4.2    \n",
      "pluggy                             0.6.0    \n",
      "ply                                3.11     \n",
      "prompt-toolkit                     1.0.15   \n",
      "psutil                             5.4.5    \n",
      "py                                 1.5.3    \n",
      "pycodestyle                        2.4.0    \n",
      "pycosat                            0.6.3    \n",
      "pycparser                          2.18     \n",
      "pycrypto                           2.6.1    \n",
      "pycurl                             7.43.0.1 \n",
      "pyflakes                           1.6.0    \n",
      "Pygments                           2.2.0    \n",
      "pylint                             1.8.4    \n",
      "pyodbc                             4.0.23   \n",
      "PyOpenGL                           3.1.1a1  \n",
      "pyOpenSSL                          18.0.0   \n",
      "pyparsing                          2.2.0    \n",
      "pyreadline                         2.1      \n",
      "PySocks                            1.6.8    \n",
      "pytest                             3.5.1    \n",
      "pytest-arraydiff                   0.2      \n",
      "pytest-astropy                     0.3.0    \n",
      "pytest-doctestplus                 0.1.3    \n",
      "pytest-openfiles                   0.3.0    \n",
      "pytest-remotedata                  0.2.1    \n",
      "python-dateutil                    2.7.3    \n",
      "pytz                               2018.4   \n",
      "PyWavelets                         0.5.2    \n",
      "pywin32                            223      \n",
      "pywinpty                           0.5.1    \n",
      "PyYAML                             3.12     \n",
      "pyzmq                              17.0.0   \n",
      "QtAwesome                          0.4.4    \n",
      "qtconsole                          4.3.1    \n",
      "QtPy                               1.4.1    \n",
      "requests                           2.18.4   \n",
      "retrying                           1.3.3    \n",
      "rope                               0.10.7   \n",
      "ruamel-yaml                        0.15.35  \n",
      "scikit-image                       0.13.1   \n",
      "scikit-learn                       0.19.1   \n",
      "scipy                              1.1.0    \n",
      "seaborn                            0.8.1    \n",
      "Send2Trash                         1.5.0    \n",
      "setuptools                         39.1.0   \n",
      "simplegeneric                      0.8.1    \n",
      "singledispatch                     3.4.0.3  \n",
      "six                                1.11.0   \n",
      "snowballstemmer                    1.2.1    \n",
      "sortedcollections                  0.6.1    \n",
      "sortedcontainers                   1.5.10   \n",
      "Sphinx                             1.7.4    \n",
      "sphinxcontrib-websupport           1.0.1    \n",
      "spyder                             3.2.8    \n",
      "SQLAlchemy                         1.2.7    \n",
      "statsmodels                        0.9.0    \n",
      "sympy                              1.1.1    \n",
      "tables                             3.4.3    \n",
      "tblib                              1.3.2    \n",
      "terminado                          0.8.1    \n",
      "testpath                           0.3.1    \n",
      "toolz                              0.9.0    \n",
      "tornado                            5.0.2    \n",
      "traitlets                          4.3.2    \n",
      "typing                             3.6.4    \n",
      "unicodecsv                         0.14.1   \n",
      "urllib3                            1.22     \n",
      "wcwidth                            0.1.7    \n",
      "webencodings                       0.5.1    \n",
      "Werkzeug                           0.14.1   \n",
      "wheel                              0.31.1   \n",
      "widgetsnbextension                 3.2.1    \n",
      "win-inet-pton                      1.0.1    \n",
      "win-unicode-console                0.5      \n",
      "wincertstore                       0.2      \n",
      "wrapt                              1.10.11  \n",
      "xlrd                               1.1.0    \n",
      "XlsxWriter                         1.0.4    \n",
      "xlwings                            0.11.8   \n",
      "xlwt                               1.3.0    \n",
      "zict                               0.1.3    \n"
     ]
    }
   ],
   "source": [
    "!pip list"
   ]
  },
  {
   "cell_type": "code",
   "execution_count": 5,
   "metadata": {},
   "outputs": [
    {
     "name": "stdout",
     "output_type": "stream",
     "text": [
      "\n",
      "Usage:   \n",
      "  pip <command> [options]\n",
      "\n",
      "Commands:\n",
      "  install                     Install packages.\n",
      "  download                    Download packages.\n",
      "  uninstall                   Uninstall packages.\n",
      "  freeze                      Output installed packages in requirements format.\n",
      "  list                        List installed packages.\n",
      "  show                        Show information about installed packages.\n",
      "  check                       Verify installed packages have compatible dependencies.\n",
      "  config                      Manage local and global configuration.\n",
      "  search                      Search PyPI for packages.\n",
      "  wheel                       Build wheels from your requirements.\n",
      "  hash                        Compute hashes of package archives.\n",
      "  completion                  A helper command used for command completion.\n",
      "  help                        Show help for commands.\n",
      "\n",
      "General Options:\n",
      "  -h, --help                  Show help.\n",
      "  --isolated                  Run pip in an isolated mode, ignoring\n",
      "                              environment variables and user configuration.\n",
      "  -v, --verbose               Give more output. Option is additive, and can be\n",
      "                              used up to 3 times.\n",
      "  -V, --version               Show version and exit.\n",
      "  -q, --quiet                 Give less output. Option is additive, and can be\n",
      "                              used up to 3 times (corresponding to WARNING,\n",
      "                              ERROR, and CRITICAL logging levels).\n",
      "  --log <path>                Path to a verbose appending log.\n",
      "  --proxy <proxy>             Specify a proxy in the form\n",
      "                              [user:passwd@]proxy.server:port.\n",
      "  --retries <retries>         Maximum number of retries each connection should\n",
      "                              attempt (default 5 times).\n",
      "  --timeout <sec>             Set the socket timeout (default 15 seconds).\n",
      "  --exists-action <action>    Default action when a path already exists:\n",
      "                              (s)witch, (i)gnore, (w)ipe, (b)ackup, (a)bort).\n",
      "  --trusted-host <hostname>   Mark this host as trusted, even though it does\n",
      "                              not have valid or any HTTPS.\n",
      "  --cert <path>               Path to alternate CA bundle.\n",
      "  --client-cert <path>        Path to SSL client certificate, a single file\n",
      "                              containing the private key and the certificate\n",
      "                              in PEM format.\n",
      "  --cache-dir <dir>           Store the cache data in <dir>.\n",
      "  --no-cache-dir              Disable the cache.\n",
      "  --disable-pip-version-check\n",
      "                              Don't periodically check PyPI to determine\n",
      "                              whether a new version of pip is available for\n",
      "                              download. Implied with --no-index.\n",
      "  --no-color                  Suppress colored output\n"
     ]
    }
   ],
   "source": [
    "!pip"
   ]
  },
  {
   "cell_type": "code",
   "execution_count": 25,
   "metadata": {},
   "outputs": [],
   "source": [
    "import scipy as scientific\n",
    "import matplotlib as mat\n",
    "import pandas\n",
    "import matplotlib.pyplot as plot"
   ]
  },
  {
   "cell_type": "code",
   "execution_count": 23,
   "metadata": {},
   "outputs": [
    {
     "name": "stdout",
     "output_type": "stream",
     "text": [
      "<class 'pandas.core.frame.DataFrame'>\n",
      "(5159, 8)\n",
      "         Date   Open    High     Low    Last   Close  Total Trade Quantity  \\\n",
      "0  2018-11-29  106.0  106.85  103.45  105.10  105.00            18139210.0   \n",
      "1  2018-11-28  109.0  110.25  103.60  104.35  104.75            18726621.0   \n",
      "2  2018-11-27  108.9  110.50  108.25  108.85  108.95            12495317.0   \n",
      "3  2018-11-26  110.6  111.15  107.10  108.50  108.90            15396197.0   \n",
      "4  2018-11-22  112.8  112.80  109.45  109.85  109.90            13647386.0   \n",
      "\n",
      "   Turnover (Lacs)  \n",
      "0         19085.99  \n",
      "1         20013.16  \n",
      "2         13650.78  \n",
      "3         16780.67  \n",
      "4         15157.65  \n"
     ]
    }
   ],
   "source": [
    "file_data = pandas.read_csv(r\"C:\\Users\\30158\\Desktop\\P-1\\stocks-raw-data\\NSE-BANKBARODA.csv\")\n",
    "print(type(file_data))\n",
    "print(file_data.shape)\n",
    "print(file_data.head())"
   ]
  },
  {
   "cell_type": "code",
   "execution_count": 26,
   "metadata": {},
   "outputs": [
    {
     "data": {
      "text/plain": [
       "<matplotlib.image.AxesImage at 0xa970dd4898>"
      ]
     },
     "execution_count": 26,
     "metadata": {},
     "output_type": "execute_result"
    },
    {
     "data": {
      "image/png": "[encoded data removed]",
      "text/plain": [
       "<Figure size 288x288 with 1 Axes>"
      ]
     },
     "metadata": {},
     "output_type": "display_data"
    }
   ],
   "source": [
    "plot.matshow(file_data.corr())"
   ]
  },
  {
   "cell_type": "code",
   "execution_count": 29,
   "metadata": {},
   "outputs": [
    {
     "data": {
      "text/plain": [
       "<matplotlib.axes._subplots.AxesSubplot at 0xa974e8ac18>"
      ]
     },
     "execution_count": 29,
     "metadata": {},
     "output_type": "execute_result"
    },
    {
     "data": {
      "image/png": "[encoded data removed]",
      "text/plain": [
       "<Figure size 432x288 with 2 Axes>"
      ]
     },
     "metadata": {},
     "output_type": "display_data"
    }
   ],
   "source": [
    "import seaborn as sns\n",
    "corr = file_data.corr()\n",
    "sns.heatmap(corr, \n",
    "            xticklabels=corr.columns.values,\n",
    "            yticklabels=corr.columns.values)"
   ]
  },
  {
   "cell_type": "code",
   "execution_count": 31,
   "metadata": {},
   "outputs": [
    {
     "data": {
      "text/plain": [
       "<matplotlib.axes._subplots.AxesSubplot at 0xa974564128>"
      ]
     },
     "execution_count": 31,
     "metadata": {},
     "output_type": "execute_result"
    },
    {
     "data": {
      "image/png": "[encoded data removed]",
      "text/plain": [
       "<Figure size 432x288 with 1 Axes>"
      ]
     },
     "metadata": {},
     "output_type": "display_data"
    }
   ],
   "source": [
    "file_data.plot( x=\"Open\", y=\"High\", marker=\"o\", linestyle=\"\")"
   ]
  },
  {
   "cell_type": "code",
   "execution_count": 32,
   "metadata": {},
   "outputs": [
    {
     "data": {
      "text/plain": [
       "<matplotlib.axes._subplots.AxesSubplot at 0xa974599a58>"
      ]
     },
     "execution_count": 32,
     "metadata": {},
     "output_type": "execute_result"
    },
    {
     "data": {
      "image/png": "[encoded data removed]",
      "text/plain": [
       "<Figure size 432x288 with 1 Axes>"
      ]
     },
     "metadata": {},
     "output_type": "display_data"
    }
   ],
   "source": [
    "file_data.plot( x=\"Open\", y=\"Turnover (Lacs)\", marker=\"o\", linestyle=\"\")"
   ]
  },
  {
   "cell_type": "code",
   "execution_count": 33,
   "metadata": {},
   "outputs": [
    {
     "data": {
      "text/plain": [
       "<matplotlib.axes._subplots.AxesSubplot at 0xa974296278>"
      ]
     },
     "execution_count": 33,
     "metadata": {},
     "output_type": "execute_result"
    },
    {
     "data": {
      "image/png": "[encoded data removed]",
      "text/plain": [
       "<Figure size 432x288 with 1 Axes>"
      ]
     },
     "metadata": {},
     "output_type": "display_data"
    }
   ],
   "source": [
    "file_data.plot( x=\"Open\", y=\"Total Trade Quantity\", marker=\"o\", linestyle=\"\")"
   ]
  },
  {
   "cell_type": "code",
   "execution_count": 34,
   "metadata": {},
   "outputs": [
    {
     "data": {
      "text/plain": [
       "<matplotlib.axes._subplots.AxesSubplot at 0xa97408c240>"
      ]
     },
     "execution_count": 34,
     "metadata": {},
     "output_type": "execute_result"
    },
    {
     "data": {
      "image/png": "[encoded data removed]",
      "text/plain": [
       "<Figure size 432x288 with 1 Axes>"
      ]
     },
     "metadata": {},
     "output_type": "display_data"
    }
   ],
   "source": [
    "file_data.plot( x=\"Open\", y=\"Close\", marker=\"o\", linestyle=\"\")"
   ]
  },
  {
   "cell_type": "code",
   "execution_count": null,
   "metadata": {},
   "outputs": [],
   "source": []
  }
 ],
 "metadata": {
  "kernelspec": {
   "display_name": "Python 3",
   "language": "python",
   "name": "python3"
  },
  "language_info": {
   "codemirror_mode": {
    "name": "ipython",
    "version": 3
   },
   "file_extension": ".py",
   "mimetype": "text/x-python",
   "name": "python",
   "nbconvert_exporter": "python",
   "pygments_lexer": "ipython3",
   "version": "3.6.5"
  }
 },
 "nbformat": 4,
 "nbformat_minor": 2
}
